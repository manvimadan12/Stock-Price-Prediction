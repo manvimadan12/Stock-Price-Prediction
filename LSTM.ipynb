{
 "cells": [
  {
   "cell_type": "code",
   "execution_count": 11,
   "metadata": {},
   "outputs": [],
   "source": [
    "# Importing the libraries\n",
    "import numpy as np\n",
    "import matplotlib.pyplot as plt\n",
    "import pandas as pd"
   ]
  },
  {
   "cell_type": "code",
   "execution_count": 12,
   "metadata": {},
   "outputs": [],
   "source": [
    "# Importing the training set\n",
    "dataset_train = pd.read_csv('Google_Stock_Price_Train.csv')\n",
    "training_set = dataset_train.iloc[:, 1:2].values\n"
   ]
  },
  {
   "cell_type": "code",
   "execution_count": 13,
   "metadata": {},
   "outputs": [
    {
     "data": {
      "text/html": [
       "<div>\n",
       "<style scoped>\n",
       "    .dataframe tbody tr th:only-of-type {\n",
       "        vertical-align: middle;\n",
       "    }\n",
       "\n",
       "    .dataframe tbody tr th {\n",
       "        vertical-align: top;\n",
       "    }\n",
       "\n",
       "    .dataframe thead th {\n",
       "        text-align: right;\n",
       "    }\n",
       "</style>\n",
       "<table border=\"1\" class=\"dataframe\">\n",
       "  <thead>\n",
       "    <tr style=\"text-align: right;\">\n",
       "      <th></th>\n",
       "      <th>Date</th>\n",
       "      <th>Open</th>\n",
       "      <th>High</th>\n",
       "      <th>Low</th>\n",
       "      <th>Close</th>\n",
       "      <th>Volume</th>\n",
       "    </tr>\n",
       "  </thead>\n",
       "  <tbody>\n",
       "    <tr>\n",
       "      <th>0</th>\n",
       "      <td>1/3/2012</td>\n",
       "      <td>325.25</td>\n",
       "      <td>332.83</td>\n",
       "      <td>324.97</td>\n",
       "      <td>663.59</td>\n",
       "      <td>7,380,500</td>\n",
       "    </tr>\n",
       "    <tr>\n",
       "      <th>1</th>\n",
       "      <td>1/4/2012</td>\n",
       "      <td>331.27</td>\n",
       "      <td>333.87</td>\n",
       "      <td>329.08</td>\n",
       "      <td>666.45</td>\n",
       "      <td>5,749,400</td>\n",
       "    </tr>\n",
       "    <tr>\n",
       "      <th>2</th>\n",
       "      <td>1/5/2012</td>\n",
       "      <td>329.83</td>\n",
       "      <td>330.75</td>\n",
       "      <td>326.89</td>\n",
       "      <td>657.21</td>\n",
       "      <td>6,590,300</td>\n",
       "    </tr>\n",
       "    <tr>\n",
       "      <th>3</th>\n",
       "      <td>1/6/2012</td>\n",
       "      <td>328.34</td>\n",
       "      <td>328.77</td>\n",
       "      <td>323.68</td>\n",
       "      <td>648.24</td>\n",
       "      <td>5,405,900</td>\n",
       "    </tr>\n",
       "    <tr>\n",
       "      <th>4</th>\n",
       "      <td>1/9/2012</td>\n",
       "      <td>322.04</td>\n",
       "      <td>322.29</td>\n",
       "      <td>309.46</td>\n",
       "      <td>620.76</td>\n",
       "      <td>11,688,800</td>\n",
       "    </tr>\n",
       "    <tr>\n",
       "      <th>...</th>\n",
       "      <td>...</td>\n",
       "      <td>...</td>\n",
       "      <td>...</td>\n",
       "      <td>...</td>\n",
       "      <td>...</td>\n",
       "      <td>...</td>\n",
       "    </tr>\n",
       "    <tr>\n",
       "      <th>1253</th>\n",
       "      <td>12/23/2016</td>\n",
       "      <td>790.90</td>\n",
       "      <td>792.74</td>\n",
       "      <td>787.28</td>\n",
       "      <td>789.91</td>\n",
       "      <td>623,400</td>\n",
       "    </tr>\n",
       "    <tr>\n",
       "      <th>1254</th>\n",
       "      <td>12/27/2016</td>\n",
       "      <td>790.68</td>\n",
       "      <td>797.86</td>\n",
       "      <td>787.66</td>\n",
       "      <td>791.55</td>\n",
       "      <td>789,100</td>\n",
       "    </tr>\n",
       "    <tr>\n",
       "      <th>1255</th>\n",
       "      <td>12/28/2016</td>\n",
       "      <td>793.70</td>\n",
       "      <td>794.23</td>\n",
       "      <td>783.20</td>\n",
       "      <td>785.05</td>\n",
       "      <td>1,153,800</td>\n",
       "    </tr>\n",
       "    <tr>\n",
       "      <th>1256</th>\n",
       "      <td>12/29/2016</td>\n",
       "      <td>783.33</td>\n",
       "      <td>785.93</td>\n",
       "      <td>778.92</td>\n",
       "      <td>782.79</td>\n",
       "      <td>744,300</td>\n",
       "    </tr>\n",
       "    <tr>\n",
       "      <th>1257</th>\n",
       "      <td>12/30/2016</td>\n",
       "      <td>782.75</td>\n",
       "      <td>782.78</td>\n",
       "      <td>770.41</td>\n",
       "      <td>771.82</td>\n",
       "      <td>1,770,000</td>\n",
       "    </tr>\n",
       "  </tbody>\n",
       "</table>\n",
       "<p>1258 rows × 6 columns</p>\n",
       "</div>"
      ],
      "text/plain": [
       "            Date    Open    High     Low   Close      Volume\n",
       "0       1/3/2012  325.25  332.83  324.97  663.59   7,380,500\n",
       "1       1/4/2012  331.27  333.87  329.08  666.45   5,749,400\n",
       "2       1/5/2012  329.83  330.75  326.89  657.21   6,590,300\n",
       "3       1/6/2012  328.34  328.77  323.68  648.24   5,405,900\n",
       "4       1/9/2012  322.04  322.29  309.46  620.76  11,688,800\n",
       "...          ...     ...     ...     ...     ...         ...\n",
       "1253  12/23/2016  790.90  792.74  787.28  789.91     623,400\n",
       "1254  12/27/2016  790.68  797.86  787.66  791.55     789,100\n",
       "1255  12/28/2016  793.70  794.23  783.20  785.05   1,153,800\n",
       "1256  12/29/2016  783.33  785.93  778.92  782.79     744,300\n",
       "1257  12/30/2016  782.75  782.78  770.41  771.82   1,770,000\n",
       "\n",
       "[1258 rows x 6 columns]"
      ]
     },
     "execution_count": 13,
     "metadata": {},
     "output_type": "execute_result"
    }
   ],
   "source": [
    "dataset_train"
   ]
  },
  {
   "cell_type": "code",
   "execution_count": 14,
   "metadata": {},
   "outputs": [],
   "source": [
    "# Feature Scaling\n",
    "from sklearn.preprocessing import MinMaxScaler\n",
    "sc = MinMaxScaler(feature_range = (0, 1))\n",
    "training_set_scaled = sc.fit_transform(training_set)"
   ]
  },
  {
   "cell_type": "code",
   "execution_count": 15,
   "metadata": {},
   "outputs": [],
   "source": [
    "# Creating a data structure with 60 timesteps and 1 output\n",
    "X_train = []\n",
    "y_train = []\n",
    "for i in range(60, 1258):\n",
    "    X_train.append(training_set_scaled[i-60:i, 0])\n",
    "    y_train.append(training_set_scaled[i, 0])\n",
    "X_train, y_train = np.array(X_train), np.array(y_train)\n"
   ]
  },
  {
   "cell_type": "code",
   "execution_count": 16,
   "metadata": {},
   "outputs": [],
   "source": [
    "# Reshaping\n",
    "X_train = np.reshape(X_train, (X_train.shape[0], X_train.shape[1], 1))"
   ]
  },
  {
   "cell_type": "code",
   "execution_count": 17,
   "metadata": {},
   "outputs": [],
   "source": [
    "# Importing the Keras libraries and packages\n",
    "from keras.models import Sequential\n",
    "from keras.layers import Dense\n",
    "from keras.layers import LSTM\n",
    "from keras.layers import Dropout"
   ]
  },
  {
   "cell_type": "code",
   "execution_count": 18,
   "metadata": {},
   "outputs": [],
   "source": [
    "# Initialising the RNN\n",
    "regressor = Sequential()"
   ]
  },
  {
   "cell_type": "code",
   "execution_count": 19,
   "metadata": {},
   "outputs": [],
   "source": [
    "# Adding the first LSTM layer and some Dropout regularisation\n",
    "regressor.add(LSTM(units = 50, return_sequences = False, input_shape = (X_train.shape[1], 1)))\n",
    "regressor.add(Dropout(0.2))"
   ]
  },
  {
   "cell_type": "code",
   "execution_count": 20,
   "metadata": {},
   "outputs": [
    {
     "ename": "ValueError",
     "evalue": "Input 0 is incompatible with layer lstm_4: expected ndim=3, found ndim=2",
     "output_type": "error",
     "traceback": [
      "\u001b[0;31m---------------------------------------------------------------------------\u001b[0m",
      "\u001b[0;31mValueError\u001b[0m                                Traceback (most recent call last)",
      "\u001b[0;32m<ipython-input-20-c3e15d882a0e>\u001b[0m in \u001b[0;36m<module>\u001b[0;34m()\u001b[0m\n\u001b[1;32m      1\u001b[0m \u001b[0;31m# Adding a second LSTM layer and some Dropout regularisation\u001b[0m\u001b[0;34m\u001b[0m\u001b[0;34m\u001b[0m\u001b[0;34m\u001b[0m\u001b[0m\n\u001b[0;32m----> 2\u001b[0;31m \u001b[0mregressor\u001b[0m\u001b[0;34m.\u001b[0m\u001b[0madd\u001b[0m\u001b[0;34m(\u001b[0m\u001b[0mLSTM\u001b[0m\u001b[0;34m(\u001b[0m\u001b[0munits\u001b[0m \u001b[0;34m=\u001b[0m \u001b[0;36m50\u001b[0m\u001b[0;34m,\u001b[0m \u001b[0mreturn_sequences\u001b[0m \u001b[0;34m=\u001b[0m \u001b[0;32mFalse\u001b[0m\u001b[0;34m)\u001b[0m\u001b[0;34m)\u001b[0m\u001b[0;34m\u001b[0m\u001b[0;34m\u001b[0m\u001b[0m\n\u001b[0m\u001b[1;32m      3\u001b[0m \u001b[0mregressor\u001b[0m\u001b[0;34m.\u001b[0m\u001b[0madd\u001b[0m\u001b[0;34m(\u001b[0m\u001b[0mDropout\u001b[0m\u001b[0;34m(\u001b[0m\u001b[0;36m0.2\u001b[0m\u001b[0;34m)\u001b[0m\u001b[0;34m)\u001b[0m\u001b[0;34m\u001b[0m\u001b[0;34m\u001b[0m\u001b[0m\n",
      "\u001b[0;32m/usr/local/lib/python3.7/dist-packages/keras/engine/sequential.py\u001b[0m in \u001b[0;36madd\u001b[0;34m(self, layer)\u001b[0m\n\u001b[1;32m    180\u001b[0m                 \u001b[0mself\u001b[0m\u001b[0;34m.\u001b[0m\u001b[0minputs\u001b[0m \u001b[0;34m=\u001b[0m \u001b[0mnetwork\u001b[0m\u001b[0;34m.\u001b[0m\u001b[0mget_source_inputs\u001b[0m\u001b[0;34m(\u001b[0m\u001b[0mself\u001b[0m\u001b[0;34m.\u001b[0m\u001b[0moutputs\u001b[0m\u001b[0;34m[\u001b[0m\u001b[0;36m0\u001b[0m\u001b[0;34m]\u001b[0m\u001b[0;34m)\u001b[0m\u001b[0;34m\u001b[0m\u001b[0;34m\u001b[0m\u001b[0m\n\u001b[1;32m    181\u001b[0m         \u001b[0;32melif\u001b[0m \u001b[0mself\u001b[0m\u001b[0;34m.\u001b[0m\u001b[0moutputs\u001b[0m\u001b[0;34m:\u001b[0m\u001b[0;34m\u001b[0m\u001b[0;34m\u001b[0m\u001b[0m\n\u001b[0;32m--> 182\u001b[0;31m             \u001b[0moutput_tensor\u001b[0m \u001b[0;34m=\u001b[0m \u001b[0mlayer\u001b[0m\u001b[0;34m(\u001b[0m\u001b[0mself\u001b[0m\u001b[0;34m.\u001b[0m\u001b[0moutputs\u001b[0m\u001b[0;34m[\u001b[0m\u001b[0;36m0\u001b[0m\u001b[0;34m]\u001b[0m\u001b[0;34m)\u001b[0m\u001b[0;34m\u001b[0m\u001b[0;34m\u001b[0m\u001b[0m\n\u001b[0m\u001b[1;32m    183\u001b[0m             \u001b[0;32mif\u001b[0m \u001b[0misinstance\u001b[0m\u001b[0;34m(\u001b[0m\u001b[0moutput_tensor\u001b[0m\u001b[0;34m,\u001b[0m \u001b[0mlist\u001b[0m\u001b[0;34m)\u001b[0m\u001b[0;34m:\u001b[0m\u001b[0;34m\u001b[0m\u001b[0;34m\u001b[0m\u001b[0m\n\u001b[1;32m    184\u001b[0m                 raise TypeError('All layers in a Sequential model '\n",
      "\u001b[0;32m/usr/local/lib/python3.7/dist-packages/keras/layers/recurrent.py\u001b[0m in \u001b[0;36m__call__\u001b[0;34m(self, inputs, initial_state, constants, **kwargs)\u001b[0m\n\u001b[1;32m    539\u001b[0m \u001b[0;34m\u001b[0m\u001b[0m\n\u001b[1;32m    540\u001b[0m         \u001b[0;32mif\u001b[0m \u001b[0minitial_state\u001b[0m \u001b[0;32mis\u001b[0m \u001b[0;32mNone\u001b[0m \u001b[0;32mand\u001b[0m \u001b[0mconstants\u001b[0m \u001b[0;32mis\u001b[0m \u001b[0;32mNone\u001b[0m\u001b[0;34m:\u001b[0m\u001b[0;34m\u001b[0m\u001b[0;34m\u001b[0m\u001b[0m\n\u001b[0;32m--> 541\u001b[0;31m             \u001b[0;32mreturn\u001b[0m \u001b[0msuper\u001b[0m\u001b[0;34m(\u001b[0m\u001b[0mRNN\u001b[0m\u001b[0;34m,\u001b[0m \u001b[0mself\u001b[0m\u001b[0;34m)\u001b[0m\u001b[0;34m.\u001b[0m\u001b[0m__call__\u001b[0m\u001b[0;34m(\u001b[0m\u001b[0minputs\u001b[0m\u001b[0;34m,\u001b[0m \u001b[0;34m**\u001b[0m\u001b[0mkwargs\u001b[0m\u001b[0;34m)\u001b[0m\u001b[0;34m\u001b[0m\u001b[0;34m\u001b[0m\u001b[0m\n\u001b[0m\u001b[1;32m    542\u001b[0m \u001b[0;34m\u001b[0m\u001b[0m\n\u001b[1;32m    543\u001b[0m         \u001b[0;31m# If any of `initial_state` or `constants` are specified and are Keras\u001b[0m\u001b[0;34m\u001b[0m\u001b[0;34m\u001b[0m\u001b[0;34m\u001b[0m\u001b[0m\n",
      "\u001b[0;32m/usr/local/lib/python3.7/dist-packages/keras/engine/base_layer.py\u001b[0m in \u001b[0;36m__call__\u001b[0;34m(self, inputs, **kwargs)\u001b[0m\n\u001b[1;32m    444\u001b[0m                 \u001b[0;31m# Raise exceptions in case the input is not compatible\u001b[0m\u001b[0;34m\u001b[0m\u001b[0;34m\u001b[0m\u001b[0;34m\u001b[0m\u001b[0m\n\u001b[1;32m    445\u001b[0m                 \u001b[0;31m# with the input_spec specified in the layer constructor.\u001b[0m\u001b[0;34m\u001b[0m\u001b[0;34m\u001b[0m\u001b[0;34m\u001b[0m\u001b[0m\n\u001b[0;32m--> 446\u001b[0;31m                 \u001b[0mself\u001b[0m\u001b[0;34m.\u001b[0m\u001b[0massert_input_compatibility\u001b[0m\u001b[0;34m(\u001b[0m\u001b[0minputs\u001b[0m\u001b[0;34m)\u001b[0m\u001b[0;34m\u001b[0m\u001b[0;34m\u001b[0m\u001b[0m\n\u001b[0m\u001b[1;32m    447\u001b[0m \u001b[0;34m\u001b[0m\u001b[0m\n\u001b[1;32m    448\u001b[0m                 \u001b[0;31m# Collect input shapes to build layer.\u001b[0m\u001b[0;34m\u001b[0m\u001b[0;34m\u001b[0m\u001b[0;34m\u001b[0m\u001b[0m\n",
      "\u001b[0;32m/usr/local/lib/python3.7/dist-packages/keras/engine/base_layer.py\u001b[0m in \u001b[0;36massert_input_compatibility\u001b[0;34m(self, inputs)\u001b[0m\n\u001b[1;32m    340\u001b[0m                                      \u001b[0mself\u001b[0m\u001b[0;34m.\u001b[0m\u001b[0mname\u001b[0m \u001b[0;34m+\u001b[0m \u001b[0;34m': expected ndim='\u001b[0m \u001b[0;34m+\u001b[0m\u001b[0;34m\u001b[0m\u001b[0;34m\u001b[0m\u001b[0m\n\u001b[1;32m    341\u001b[0m                                      \u001b[0mstr\u001b[0m\u001b[0;34m(\u001b[0m\u001b[0mspec\u001b[0m\u001b[0;34m.\u001b[0m\u001b[0mndim\u001b[0m\u001b[0;34m)\u001b[0m \u001b[0;34m+\u001b[0m \u001b[0;34m', found ndim='\u001b[0m \u001b[0;34m+\u001b[0m\u001b[0;34m\u001b[0m\u001b[0;34m\u001b[0m\u001b[0m\n\u001b[0;32m--> 342\u001b[0;31m                                      str(K.ndim(x)))\n\u001b[0m\u001b[1;32m    343\u001b[0m             \u001b[0;32mif\u001b[0m \u001b[0mspec\u001b[0m\u001b[0;34m.\u001b[0m\u001b[0mmax_ndim\u001b[0m \u001b[0;32mis\u001b[0m \u001b[0;32mnot\u001b[0m \u001b[0;32mNone\u001b[0m\u001b[0;34m:\u001b[0m\u001b[0;34m\u001b[0m\u001b[0;34m\u001b[0m\u001b[0m\n\u001b[1;32m    344\u001b[0m                 \u001b[0mndim\u001b[0m \u001b[0;34m=\u001b[0m \u001b[0mK\u001b[0m\u001b[0;34m.\u001b[0m\u001b[0mndim\u001b[0m\u001b[0;34m(\u001b[0m\u001b[0mx\u001b[0m\u001b[0;34m)\u001b[0m\u001b[0;34m\u001b[0m\u001b[0;34m\u001b[0m\u001b[0m\n",
      "\u001b[0;31mValueError\u001b[0m: Input 0 is incompatible with layer lstm_4: expected ndim=3, found ndim=2"
     ]
    }
   ],
   "source": [
    "# Adding a second LSTM layer and some Dropout regularisation\n",
    "regressor.add(LSTM(units = 50, return_sequences = False))\n",
    "regressor.add(Dropout(0.2))\n"
   ]
  },
  {
   "cell_type": "code",
   "execution_count": 21,
   "metadata": {},
   "outputs": [
    {
     "ename": "ValueError",
     "evalue": "Input 0 is incompatible with layer lstm_5: expected ndim=3, found ndim=2",
     "output_type": "error",
     "traceback": [
      "\u001b[0;31m---------------------------------------------------------------------------\u001b[0m",
      "\u001b[0;31mValueError\u001b[0m                                Traceback (most recent call last)",
      "\u001b[0;32m<ipython-input-21-23e3704ce11f>\u001b[0m in \u001b[0;36m<module>\u001b[0;34m()\u001b[0m\n\u001b[1;32m      1\u001b[0m \u001b[0;31m# Adding a third LSTM layer and some Dropout regularisation\u001b[0m\u001b[0;34m\u001b[0m\u001b[0;34m\u001b[0m\u001b[0;34m\u001b[0m\u001b[0m\n\u001b[0;32m----> 2\u001b[0;31m \u001b[0mregressor\u001b[0m\u001b[0;34m.\u001b[0m\u001b[0madd\u001b[0m\u001b[0;34m(\u001b[0m\u001b[0mLSTM\u001b[0m\u001b[0;34m(\u001b[0m\u001b[0munits\u001b[0m \u001b[0;34m=\u001b[0m \u001b[0;36m50\u001b[0m\u001b[0;34m,\u001b[0m \u001b[0mreturn_sequences\u001b[0m \u001b[0;34m=\u001b[0m \u001b[0;32mFalse\u001b[0m\u001b[0;34m)\u001b[0m\u001b[0;34m)\u001b[0m\u001b[0;34m\u001b[0m\u001b[0;34m\u001b[0m\u001b[0m\n\u001b[0m\u001b[1;32m      3\u001b[0m \u001b[0mregressor\u001b[0m\u001b[0;34m.\u001b[0m\u001b[0madd\u001b[0m\u001b[0;34m(\u001b[0m\u001b[0mDropout\u001b[0m\u001b[0;34m(\u001b[0m\u001b[0;36m0.2\u001b[0m\u001b[0;34m)\u001b[0m\u001b[0;34m)\u001b[0m\u001b[0;34m\u001b[0m\u001b[0;34m\u001b[0m\u001b[0m\n",
      "\u001b[0;32m/usr/local/lib/python3.7/dist-packages/keras/engine/sequential.py\u001b[0m in \u001b[0;36madd\u001b[0;34m(self, layer)\u001b[0m\n\u001b[1;32m    180\u001b[0m                 \u001b[0mself\u001b[0m\u001b[0;34m.\u001b[0m\u001b[0minputs\u001b[0m \u001b[0;34m=\u001b[0m \u001b[0mnetwork\u001b[0m\u001b[0;34m.\u001b[0m\u001b[0mget_source_inputs\u001b[0m\u001b[0;34m(\u001b[0m\u001b[0mself\u001b[0m\u001b[0;34m.\u001b[0m\u001b[0moutputs\u001b[0m\u001b[0;34m[\u001b[0m\u001b[0;36m0\u001b[0m\u001b[0;34m]\u001b[0m\u001b[0;34m)\u001b[0m\u001b[0;34m\u001b[0m\u001b[0;34m\u001b[0m\u001b[0m\n\u001b[1;32m    181\u001b[0m         \u001b[0;32melif\u001b[0m \u001b[0mself\u001b[0m\u001b[0;34m.\u001b[0m\u001b[0moutputs\u001b[0m\u001b[0;34m:\u001b[0m\u001b[0;34m\u001b[0m\u001b[0;34m\u001b[0m\u001b[0m\n\u001b[0;32m--> 182\u001b[0;31m             \u001b[0moutput_tensor\u001b[0m \u001b[0;34m=\u001b[0m \u001b[0mlayer\u001b[0m\u001b[0;34m(\u001b[0m\u001b[0mself\u001b[0m\u001b[0;34m.\u001b[0m\u001b[0moutputs\u001b[0m\u001b[0;34m[\u001b[0m\u001b[0;36m0\u001b[0m\u001b[0;34m]\u001b[0m\u001b[0;34m)\u001b[0m\u001b[0;34m\u001b[0m\u001b[0;34m\u001b[0m\u001b[0m\n\u001b[0m\u001b[1;32m    183\u001b[0m             \u001b[0;32mif\u001b[0m \u001b[0misinstance\u001b[0m\u001b[0;34m(\u001b[0m\u001b[0moutput_tensor\u001b[0m\u001b[0;34m,\u001b[0m \u001b[0mlist\u001b[0m\u001b[0;34m)\u001b[0m\u001b[0;34m:\u001b[0m\u001b[0;34m\u001b[0m\u001b[0;34m\u001b[0m\u001b[0m\n\u001b[1;32m    184\u001b[0m                 raise TypeError('All layers in a Sequential model '\n",
      "\u001b[0;32m/usr/local/lib/python3.7/dist-packages/keras/layers/recurrent.py\u001b[0m in \u001b[0;36m__call__\u001b[0;34m(self, inputs, initial_state, constants, **kwargs)\u001b[0m\n\u001b[1;32m    539\u001b[0m \u001b[0;34m\u001b[0m\u001b[0m\n\u001b[1;32m    540\u001b[0m         \u001b[0;32mif\u001b[0m \u001b[0minitial_state\u001b[0m \u001b[0;32mis\u001b[0m \u001b[0;32mNone\u001b[0m \u001b[0;32mand\u001b[0m \u001b[0mconstants\u001b[0m \u001b[0;32mis\u001b[0m \u001b[0;32mNone\u001b[0m\u001b[0;34m:\u001b[0m\u001b[0;34m\u001b[0m\u001b[0;34m\u001b[0m\u001b[0m\n\u001b[0;32m--> 541\u001b[0;31m             \u001b[0;32mreturn\u001b[0m \u001b[0msuper\u001b[0m\u001b[0;34m(\u001b[0m\u001b[0mRNN\u001b[0m\u001b[0;34m,\u001b[0m \u001b[0mself\u001b[0m\u001b[0;34m)\u001b[0m\u001b[0;34m.\u001b[0m\u001b[0m__call__\u001b[0m\u001b[0;34m(\u001b[0m\u001b[0minputs\u001b[0m\u001b[0;34m,\u001b[0m \u001b[0;34m**\u001b[0m\u001b[0mkwargs\u001b[0m\u001b[0;34m)\u001b[0m\u001b[0;34m\u001b[0m\u001b[0;34m\u001b[0m\u001b[0m\n\u001b[0m\u001b[1;32m    542\u001b[0m \u001b[0;34m\u001b[0m\u001b[0m\n\u001b[1;32m    543\u001b[0m         \u001b[0;31m# If any of `initial_state` or `constants` are specified and are Keras\u001b[0m\u001b[0;34m\u001b[0m\u001b[0;34m\u001b[0m\u001b[0;34m\u001b[0m\u001b[0m\n",
      "\u001b[0;32m/usr/local/lib/python3.7/dist-packages/keras/engine/base_layer.py\u001b[0m in \u001b[0;36m__call__\u001b[0;34m(self, inputs, **kwargs)\u001b[0m\n\u001b[1;32m    444\u001b[0m                 \u001b[0;31m# Raise exceptions in case the input is not compatible\u001b[0m\u001b[0;34m\u001b[0m\u001b[0;34m\u001b[0m\u001b[0;34m\u001b[0m\u001b[0m\n\u001b[1;32m    445\u001b[0m                 \u001b[0;31m# with the input_spec specified in the layer constructor.\u001b[0m\u001b[0;34m\u001b[0m\u001b[0;34m\u001b[0m\u001b[0;34m\u001b[0m\u001b[0m\n\u001b[0;32m--> 446\u001b[0;31m                 \u001b[0mself\u001b[0m\u001b[0;34m.\u001b[0m\u001b[0massert_input_compatibility\u001b[0m\u001b[0;34m(\u001b[0m\u001b[0minputs\u001b[0m\u001b[0;34m)\u001b[0m\u001b[0;34m\u001b[0m\u001b[0;34m\u001b[0m\u001b[0m\n\u001b[0m\u001b[1;32m    447\u001b[0m \u001b[0;34m\u001b[0m\u001b[0m\n\u001b[1;32m    448\u001b[0m                 \u001b[0;31m# Collect input shapes to build layer.\u001b[0m\u001b[0;34m\u001b[0m\u001b[0;34m\u001b[0m\u001b[0;34m\u001b[0m\u001b[0m\n",
      "\u001b[0;32m/usr/local/lib/python3.7/dist-packages/keras/engine/base_layer.py\u001b[0m in \u001b[0;36massert_input_compatibility\u001b[0;34m(self, inputs)\u001b[0m\n\u001b[1;32m    340\u001b[0m                                      \u001b[0mself\u001b[0m\u001b[0;34m.\u001b[0m\u001b[0mname\u001b[0m \u001b[0;34m+\u001b[0m \u001b[0;34m': expected ndim='\u001b[0m \u001b[0;34m+\u001b[0m\u001b[0;34m\u001b[0m\u001b[0;34m\u001b[0m\u001b[0m\n\u001b[1;32m    341\u001b[0m                                      \u001b[0mstr\u001b[0m\u001b[0;34m(\u001b[0m\u001b[0mspec\u001b[0m\u001b[0;34m.\u001b[0m\u001b[0mndim\u001b[0m\u001b[0;34m)\u001b[0m \u001b[0;34m+\u001b[0m \u001b[0;34m', found ndim='\u001b[0m \u001b[0;34m+\u001b[0m\u001b[0;34m\u001b[0m\u001b[0;34m\u001b[0m\u001b[0m\n\u001b[0;32m--> 342\u001b[0;31m                                      str(K.ndim(x)))\n\u001b[0m\u001b[1;32m    343\u001b[0m             \u001b[0;32mif\u001b[0m \u001b[0mspec\u001b[0m\u001b[0;34m.\u001b[0m\u001b[0mmax_ndim\u001b[0m \u001b[0;32mis\u001b[0m \u001b[0;32mnot\u001b[0m \u001b[0;32mNone\u001b[0m\u001b[0;34m:\u001b[0m\u001b[0;34m\u001b[0m\u001b[0;34m\u001b[0m\u001b[0m\n\u001b[1;32m    344\u001b[0m                 \u001b[0mndim\u001b[0m \u001b[0;34m=\u001b[0m \u001b[0mK\u001b[0m\u001b[0;34m.\u001b[0m\u001b[0mndim\u001b[0m\u001b[0;34m(\u001b[0m\u001b[0mx\u001b[0m\u001b[0;34m)\u001b[0m\u001b[0;34m\u001b[0m\u001b[0;34m\u001b[0m\u001b[0m\n",
      "\u001b[0;31mValueError\u001b[0m: Input 0 is incompatible with layer lstm_5: expected ndim=3, found ndim=2"
     ]
    }
   ],
   "source": [
    "# Adding a third LSTM layer and some Dropout regularisation\n",
    "regressor.add(LSTM(units = 50, return_sequences = False))\n",
    "regressor.add(Dropout(0.2))"
   ]
  },
  {
   "cell_type": "code",
   "execution_count": 22,
   "metadata": {},
   "outputs": [
    {
     "ename": "ValueError",
     "evalue": "Input 0 is incompatible with layer lstm_6: expected ndim=3, found ndim=2",
     "output_type": "error",
     "traceback": [
      "\u001b[0;31m---------------------------------------------------------------------------\u001b[0m",
      "\u001b[0;31mValueError\u001b[0m                                Traceback (most recent call last)",
      "\u001b[0;32m<ipython-input-22-3d16ffef3407>\u001b[0m in \u001b[0;36m<module>\u001b[0;34m()\u001b[0m\n\u001b[1;32m      1\u001b[0m \u001b[0;31m# Adding a fourth LSTM layer and some Dropout regularisation\u001b[0m\u001b[0;34m\u001b[0m\u001b[0;34m\u001b[0m\u001b[0;34m\u001b[0m\u001b[0m\n\u001b[0;32m----> 2\u001b[0;31m \u001b[0mregressor\u001b[0m\u001b[0;34m.\u001b[0m\u001b[0madd\u001b[0m\u001b[0;34m(\u001b[0m\u001b[0mLSTM\u001b[0m\u001b[0;34m(\u001b[0m\u001b[0munits\u001b[0m \u001b[0;34m=\u001b[0m \u001b[0;36m50\u001b[0m\u001b[0;34m)\u001b[0m\u001b[0;34m)\u001b[0m\u001b[0;34m\u001b[0m\u001b[0;34m\u001b[0m\u001b[0m\n\u001b[0m\u001b[1;32m      3\u001b[0m \u001b[0mregressor\u001b[0m\u001b[0;34m.\u001b[0m\u001b[0madd\u001b[0m\u001b[0;34m(\u001b[0m\u001b[0mDropout\u001b[0m\u001b[0;34m(\u001b[0m\u001b[0;36m0.2\u001b[0m\u001b[0;34m)\u001b[0m\u001b[0;34m)\u001b[0m\u001b[0;34m\u001b[0m\u001b[0;34m\u001b[0m\u001b[0m\n",
      "\u001b[0;32m/usr/local/lib/python3.7/dist-packages/keras/engine/sequential.py\u001b[0m in \u001b[0;36madd\u001b[0;34m(self, layer)\u001b[0m\n\u001b[1;32m    180\u001b[0m                 \u001b[0mself\u001b[0m\u001b[0;34m.\u001b[0m\u001b[0minputs\u001b[0m \u001b[0;34m=\u001b[0m \u001b[0mnetwork\u001b[0m\u001b[0;34m.\u001b[0m\u001b[0mget_source_inputs\u001b[0m\u001b[0;34m(\u001b[0m\u001b[0mself\u001b[0m\u001b[0;34m.\u001b[0m\u001b[0moutputs\u001b[0m\u001b[0;34m[\u001b[0m\u001b[0;36m0\u001b[0m\u001b[0;34m]\u001b[0m\u001b[0;34m)\u001b[0m\u001b[0;34m\u001b[0m\u001b[0;34m\u001b[0m\u001b[0m\n\u001b[1;32m    181\u001b[0m         \u001b[0;32melif\u001b[0m \u001b[0mself\u001b[0m\u001b[0;34m.\u001b[0m\u001b[0moutputs\u001b[0m\u001b[0;34m:\u001b[0m\u001b[0;34m\u001b[0m\u001b[0;34m\u001b[0m\u001b[0m\n\u001b[0;32m--> 182\u001b[0;31m             \u001b[0moutput_tensor\u001b[0m \u001b[0;34m=\u001b[0m \u001b[0mlayer\u001b[0m\u001b[0;34m(\u001b[0m\u001b[0mself\u001b[0m\u001b[0;34m.\u001b[0m\u001b[0moutputs\u001b[0m\u001b[0;34m[\u001b[0m\u001b[0;36m0\u001b[0m\u001b[0;34m]\u001b[0m\u001b[0;34m)\u001b[0m\u001b[0;34m\u001b[0m\u001b[0;34m\u001b[0m\u001b[0m\n\u001b[0m\u001b[1;32m    183\u001b[0m             \u001b[0;32mif\u001b[0m \u001b[0misinstance\u001b[0m\u001b[0;34m(\u001b[0m\u001b[0moutput_tensor\u001b[0m\u001b[0;34m,\u001b[0m \u001b[0mlist\u001b[0m\u001b[0;34m)\u001b[0m\u001b[0;34m:\u001b[0m\u001b[0;34m\u001b[0m\u001b[0;34m\u001b[0m\u001b[0m\n\u001b[1;32m    184\u001b[0m                 raise TypeError('All layers in a Sequential model '\n",
      "\u001b[0;32m/usr/local/lib/python3.7/dist-packages/keras/layers/recurrent.py\u001b[0m in \u001b[0;36m__call__\u001b[0;34m(self, inputs, initial_state, constants, **kwargs)\u001b[0m\n\u001b[1;32m    539\u001b[0m \u001b[0;34m\u001b[0m\u001b[0m\n\u001b[1;32m    540\u001b[0m         \u001b[0;32mif\u001b[0m \u001b[0minitial_state\u001b[0m \u001b[0;32mis\u001b[0m \u001b[0;32mNone\u001b[0m \u001b[0;32mand\u001b[0m \u001b[0mconstants\u001b[0m \u001b[0;32mis\u001b[0m \u001b[0;32mNone\u001b[0m\u001b[0;34m:\u001b[0m\u001b[0;34m\u001b[0m\u001b[0;34m\u001b[0m\u001b[0m\n\u001b[0;32m--> 541\u001b[0;31m             \u001b[0;32mreturn\u001b[0m \u001b[0msuper\u001b[0m\u001b[0;34m(\u001b[0m\u001b[0mRNN\u001b[0m\u001b[0;34m,\u001b[0m \u001b[0mself\u001b[0m\u001b[0;34m)\u001b[0m\u001b[0;34m.\u001b[0m\u001b[0m__call__\u001b[0m\u001b[0;34m(\u001b[0m\u001b[0minputs\u001b[0m\u001b[0;34m,\u001b[0m \u001b[0;34m**\u001b[0m\u001b[0mkwargs\u001b[0m\u001b[0;34m)\u001b[0m\u001b[0;34m\u001b[0m\u001b[0;34m\u001b[0m\u001b[0m\n\u001b[0m\u001b[1;32m    542\u001b[0m \u001b[0;34m\u001b[0m\u001b[0m\n\u001b[1;32m    543\u001b[0m         \u001b[0;31m# If any of `initial_state` or `constants` are specified and are Keras\u001b[0m\u001b[0;34m\u001b[0m\u001b[0;34m\u001b[0m\u001b[0;34m\u001b[0m\u001b[0m\n",
      "\u001b[0;32m/usr/local/lib/python3.7/dist-packages/keras/engine/base_layer.py\u001b[0m in \u001b[0;36m__call__\u001b[0;34m(self, inputs, **kwargs)\u001b[0m\n\u001b[1;32m    444\u001b[0m                 \u001b[0;31m# Raise exceptions in case the input is not compatible\u001b[0m\u001b[0;34m\u001b[0m\u001b[0;34m\u001b[0m\u001b[0;34m\u001b[0m\u001b[0m\n\u001b[1;32m    445\u001b[0m                 \u001b[0;31m# with the input_spec specified in the layer constructor.\u001b[0m\u001b[0;34m\u001b[0m\u001b[0;34m\u001b[0m\u001b[0;34m\u001b[0m\u001b[0m\n\u001b[0;32m--> 446\u001b[0;31m                 \u001b[0mself\u001b[0m\u001b[0;34m.\u001b[0m\u001b[0massert_input_compatibility\u001b[0m\u001b[0;34m(\u001b[0m\u001b[0minputs\u001b[0m\u001b[0;34m)\u001b[0m\u001b[0;34m\u001b[0m\u001b[0;34m\u001b[0m\u001b[0m\n\u001b[0m\u001b[1;32m    447\u001b[0m \u001b[0;34m\u001b[0m\u001b[0m\n\u001b[1;32m    448\u001b[0m                 \u001b[0;31m# Collect input shapes to build layer.\u001b[0m\u001b[0;34m\u001b[0m\u001b[0;34m\u001b[0m\u001b[0;34m\u001b[0m\u001b[0m\n",
      "\u001b[0;32m/usr/local/lib/python3.7/dist-packages/keras/engine/base_layer.py\u001b[0m in \u001b[0;36massert_input_compatibility\u001b[0;34m(self, inputs)\u001b[0m\n\u001b[1;32m    340\u001b[0m                                      \u001b[0mself\u001b[0m\u001b[0;34m.\u001b[0m\u001b[0mname\u001b[0m \u001b[0;34m+\u001b[0m \u001b[0;34m': expected ndim='\u001b[0m \u001b[0;34m+\u001b[0m\u001b[0;34m\u001b[0m\u001b[0;34m\u001b[0m\u001b[0m\n\u001b[1;32m    341\u001b[0m                                      \u001b[0mstr\u001b[0m\u001b[0;34m(\u001b[0m\u001b[0mspec\u001b[0m\u001b[0;34m.\u001b[0m\u001b[0mndim\u001b[0m\u001b[0;34m)\u001b[0m \u001b[0;34m+\u001b[0m \u001b[0;34m', found ndim='\u001b[0m \u001b[0;34m+\u001b[0m\u001b[0;34m\u001b[0m\u001b[0;34m\u001b[0m\u001b[0m\n\u001b[0;32m--> 342\u001b[0;31m                                      str(K.ndim(x)))\n\u001b[0m\u001b[1;32m    343\u001b[0m             \u001b[0;32mif\u001b[0m \u001b[0mspec\u001b[0m\u001b[0;34m.\u001b[0m\u001b[0mmax_ndim\u001b[0m \u001b[0;32mis\u001b[0m \u001b[0;32mnot\u001b[0m \u001b[0;32mNone\u001b[0m\u001b[0;34m:\u001b[0m\u001b[0;34m\u001b[0m\u001b[0;34m\u001b[0m\u001b[0m\n\u001b[1;32m    344\u001b[0m                 \u001b[0mndim\u001b[0m \u001b[0;34m=\u001b[0m \u001b[0mK\u001b[0m\u001b[0;34m.\u001b[0m\u001b[0mndim\u001b[0m\u001b[0;34m(\u001b[0m\u001b[0mx\u001b[0m\u001b[0;34m)\u001b[0m\u001b[0;34m\u001b[0m\u001b[0;34m\u001b[0m\u001b[0m\n",
      "\u001b[0;31mValueError\u001b[0m: Input 0 is incompatible with layer lstm_6: expected ndim=3, found ndim=2"
     ]
    }
   ],
   "source": [
    "# Adding a fourth LSTM layer and some Dropout regularisation\n",
    "regressor.add(LSTM(units = 50))\n",
    "regressor.add(Dropout(0.2))\n"
   ]
  },
  {
   "cell_type": "code",
   "execution_count": 23,
   "metadata": {},
   "outputs": [],
   "source": [
    "# Adding the output layer\n",
    "regressor.add(Dense(units = 1, activation = 'linear'))"
   ]
  },
  {
   "cell_type": "code",
   "execution_count": 24,
   "metadata": {},
   "outputs": [],
   "source": [
    "# Compiling the RNN\n",
    "regressor.compile(optimizer = 'adam', loss = 'mean_squared_error', metrics = ['accuracy'])"
   ]
  },
  {
   "cell_type": "code",
   "execution_count": 25,
   "metadata": {},
   "outputs": [
    {
     "name": "stdout",
     "output_type": "stream",
     "text": [
      "WARNING:tensorflow:From /usr/local/lib/python3.7/dist-packages/keras/backend/tensorflow_backend.py:422: The name tf.global_variables is deprecated. Please use tf.compat.v1.global_variables instead.\n",
      "\n",
      "Train on 958 samples, validate on 240 samples\n",
      "Epoch 1/100\n",
      "958/958 [==============================] - 1s 819us/step - loss: 0.0431 - accuracy: 0.0010 - val_loss: 0.0369 - val_accuracy: 0.0042\n",
      "Epoch 2/100\n",
      "958/958 [==============================] - 1s 535us/step - loss: 0.0055 - accuracy: 0.0010 - val_loss: 0.0012 - val_accuracy: 0.0042\n",
      "Epoch 3/100\n",
      "958/958 [==============================] - 1s 533us/step - loss: 0.0038 - accuracy: 0.0010 - val_loss: 0.0025 - val_accuracy: 0.0042\n",
      "Epoch 4/100\n",
      "958/958 [==============================] - 1s 540us/step - loss: 0.0034 - accuracy: 0.0010 - val_loss: 0.0016 - val_accuracy: 0.0042\n",
      "Epoch 5/100\n",
      "958/958 [==============================] - 1s 537us/step - loss: 0.0030 - accuracy: 0.0010 - val_loss: 0.0015 - val_accuracy: 0.0042\n",
      "Epoch 6/100\n",
      "958/958 [==============================] - 1s 546us/step - loss: 0.0031 - accuracy: 0.0010 - val_loss: 0.0012 - val_accuracy: 0.0042\n",
      "Epoch 7/100\n",
      "958/958 [==============================] - 1s 555us/step - loss: 0.0028 - accuracy: 0.0010 - val_loss: 0.0013 - val_accuracy: 0.0042\n",
      "Epoch 8/100\n",
      "958/958 [==============================] - 1s 552us/step - loss: 0.0027 - accuracy: 0.0010 - val_loss: 0.0011 - val_accuracy: 0.0042\n",
      "Epoch 9/100\n",
      "958/958 [==============================] - 1s 546us/step - loss: 0.0025 - accuracy: 0.0010 - val_loss: 0.0010 - val_accuracy: 0.0042\n",
      "Epoch 10/100\n",
      "958/958 [==============================] - 1s 534us/step - loss: 0.0024 - accuracy: 0.0010 - val_loss: 9.8609e-04 - val_accuracy: 0.0042\n",
      "Epoch 11/100\n",
      "958/958 [==============================] - 1s 529us/step - loss: 0.0023 - accuracy: 0.0010 - val_loss: 0.0022 - val_accuracy: 0.0042\n",
      "Epoch 12/100\n",
      "958/958 [==============================] - 1s 546us/step - loss: 0.0021 - accuracy: 0.0010 - val_loss: 0.0030 - val_accuracy: 0.0042\n",
      "Epoch 13/100\n",
      "958/958 [==============================] - 1s 551us/step - loss: 0.0021 - accuracy: 0.0010 - val_loss: 9.5287e-04 - val_accuracy: 0.0042\n",
      "Epoch 14/100\n",
      "958/958 [==============================] - 1s 559us/step - loss: 0.0022 - accuracy: 0.0010 - val_loss: 9.3118e-04 - val_accuracy: 0.0042\n",
      "Epoch 15/100\n",
      "958/958 [==============================] - 1s 549us/step - loss: 0.0020 - accuracy: 0.0010 - val_loss: 0.0022 - val_accuracy: 0.0042\n",
      "Epoch 16/100\n",
      "958/958 [==============================] - 1s 557us/step - loss: 0.0021 - accuracy: 0.0010 - val_loss: 0.0025 - val_accuracy: 0.0042\n",
      "Epoch 17/100\n",
      "958/958 [==============================] - 1s 534us/step - loss: 0.0018 - accuracy: 0.0010 - val_loss: 0.0026 - val_accuracy: 0.0042\n",
      "Epoch 18/100\n",
      "958/958 [==============================] - 1s 540us/step - loss: 0.0019 - accuracy: 0.0010 - val_loss: 9.5732e-04 - val_accuracy: 0.0042\n",
      "Epoch 19/100\n",
      "958/958 [==============================] - 1s 536us/step - loss: 0.0017 - accuracy: 0.0010 - val_loss: 0.0019 - val_accuracy: 0.0042\n",
      "Epoch 20/100\n",
      "958/958 [==============================] - 1s 537us/step - loss: 0.0017 - accuracy: 0.0010 - val_loss: 0.0012 - val_accuracy: 0.0042\n",
      "Epoch 21/100\n",
      "958/958 [==============================] - 1s 538us/step - loss: 0.0017 - accuracy: 0.0010 - val_loss: 9.3700e-04 - val_accuracy: 0.0042\n",
      "Epoch 22/100\n",
      "958/958 [==============================] - 1s 529us/step - loss: 0.0019 - accuracy: 0.0010 - val_loss: 0.0035 - val_accuracy: 0.0042\n",
      "Epoch 23/100\n",
      "958/958 [==============================] - 1s 533us/step - loss: 0.0019 - accuracy: 0.0010 - val_loss: 0.0011 - val_accuracy: 0.0042\n",
      "Epoch 24/100\n",
      "958/958 [==============================] - 1s 531us/step - loss: 0.0015 - accuracy: 0.0010 - val_loss: 9.1933e-04 - val_accuracy: 0.0042\n",
      "Epoch 25/100\n",
      "958/958 [==============================] - 1s 550us/step - loss: 0.0016 - accuracy: 0.0010 - val_loss: 8.9026e-04 - val_accuracy: 0.0042\n",
      "Epoch 26/100\n",
      "958/958 [==============================] - 1s 547us/step - loss: 0.0016 - accuracy: 0.0010 - val_loss: 0.0010 - val_accuracy: 0.0042\n",
      "Epoch 27/100\n",
      "958/958 [==============================] - 1s 536us/step - loss: 0.0017 - accuracy: 0.0010 - val_loss: 9.5566e-04 - val_accuracy: 0.0042\n",
      "Epoch 28/100\n",
      "958/958 [==============================] - 1s 537us/step - loss: 0.0016 - accuracy: 0.0010 - val_loss: 0.0019 - val_accuracy: 0.0042\n",
      "Epoch 29/100\n",
      "958/958 [==============================] - 1s 539us/step - loss: 0.0017 - accuracy: 0.0010 - val_loss: 0.0019 - val_accuracy: 0.0042\n",
      "Epoch 30/100\n",
      "958/958 [==============================] - 1s 537us/step - loss: 0.0018 - accuracy: 0.0010 - val_loss: 0.0016 - val_accuracy: 0.0042\n",
      "Epoch 31/100\n",
      "958/958 [==============================] - 1s 535us/step - loss: 0.0016 - accuracy: 0.0010 - val_loss: 8.4787e-04 - val_accuracy: 0.0042\n",
      "Epoch 32/100\n",
      "958/958 [==============================] - 1s 537us/step - loss: 0.0015 - accuracy: 0.0010 - val_loss: 0.0013 - val_accuracy: 0.0042\n",
      "Epoch 33/100\n",
      "958/958 [==============================] - 1s 536us/step - loss: 0.0016 - accuracy: 0.0010 - val_loss: 8.3016e-04 - val_accuracy: 0.0042\n",
      "Epoch 34/100\n",
      "958/958 [==============================] - 1s 558us/step - loss: 0.0017 - accuracy: 0.0010 - val_loss: 0.0012 - val_accuracy: 0.0042\n",
      "Epoch 35/100\n",
      "958/958 [==============================] - 1s 547us/step - loss: 0.0015 - accuracy: 0.0010 - val_loss: 0.0022 - val_accuracy: 0.0042\n",
      "Epoch 36/100\n",
      "958/958 [==============================] - 1s 552us/step - loss: 0.0014 - accuracy: 0.0010 - val_loss: 8.2015e-04 - val_accuracy: 0.0042\n",
      "Epoch 37/100\n",
      "958/958 [==============================] - 1s 538us/step - loss: 0.0016 - accuracy: 0.0010 - val_loss: 8.1456e-04 - val_accuracy: 0.0042\n",
      "Epoch 38/100\n",
      "958/958 [==============================] - 1s 537us/step - loss: 0.0015 - accuracy: 0.0010 - val_loss: 8.3498e-04 - val_accuracy: 0.0042\n",
      "Epoch 39/100\n",
      "958/958 [==============================] - 1s 548us/step - loss: 0.0015 - accuracy: 0.0010 - val_loss: 0.0012 - val_accuracy: 0.0042\n",
      "Epoch 40/100\n",
      "958/958 [==============================] - 1s 546us/step - loss: 0.0014 - accuracy: 0.0010 - val_loss: 0.0011 - val_accuracy: 0.0042\n",
      "Epoch 41/100\n",
      "958/958 [==============================] - 1s 536us/step - loss: 0.0016 - accuracy: 0.0010 - val_loss: 8.1153e-04 - val_accuracy: 0.0042\n",
      "Epoch 42/100\n",
      "958/958 [==============================] - 1s 565us/step - loss: 0.0013 - accuracy: 0.0010 - val_loss: 9.5021e-04 - val_accuracy: 0.0042\n",
      "Epoch 43/100\n",
      "958/958 [==============================] - 1s 554us/step - loss: 0.0014 - accuracy: 0.0010 - val_loss: 7.6980e-04 - val_accuracy: 0.0042\n",
      "Epoch 44/100\n",
      "958/958 [==============================] - 1s 568us/step - loss: 0.0013 - accuracy: 0.0010 - val_loss: 0.0013 - val_accuracy: 0.0042\n",
      "Epoch 45/100\n",
      "958/958 [==============================] - 1s 548us/step - loss: 0.0013 - accuracy: 0.0010 - val_loss: 0.0013 - val_accuracy: 0.0042\n",
      "Epoch 46/100\n",
      "958/958 [==============================] - 1s 551us/step - loss: 0.0015 - accuracy: 0.0010 - val_loss: 7.7906e-04 - val_accuracy: 0.0042\n",
      "Epoch 47/100\n",
      "958/958 [==============================] - 1s 547us/step - loss: 0.0013 - accuracy: 0.0010 - val_loss: 0.0013 - val_accuracy: 0.0042\n",
      "Epoch 48/100\n",
      "958/958 [==============================] - 1s 556us/step - loss: 0.0013 - accuracy: 0.0010 - val_loss: 7.4287e-04 - val_accuracy: 0.0042\n",
      "Epoch 49/100\n",
      "958/958 [==============================] - 1s 546us/step - loss: 0.0013 - accuracy: 0.0010 - val_loss: 0.0010 - val_accuracy: 0.0042\n",
      "Epoch 50/100\n",
      "958/958 [==============================] - 1s 553us/step - loss: 0.0013 - accuracy: 0.0010 - val_loss: 8.1853e-04 - val_accuracy: 0.0042\n",
      "Epoch 51/100\n",
      "958/958 [==============================] - 1s 561us/step - loss: 0.0013 - accuracy: 0.0010 - val_loss: 8.4686e-04 - val_accuracy: 0.0042\n",
      "Epoch 52/100\n",
      "958/958 [==============================] - 1s 548us/step - loss: 0.0013 - accuracy: 0.0010 - val_loss: 8.0106e-04 - val_accuracy: 0.0042\n",
      "Epoch 53/100\n",
      "958/958 [==============================] - 1s 535us/step - loss: 0.0012 - accuracy: 0.0010 - val_loss: 7.5217e-04 - val_accuracy: 0.0042\n",
      "Epoch 54/100\n",
      "958/958 [==============================] - 1s 547us/step - loss: 0.0013 - accuracy: 0.0010 - val_loss: 7.2535e-04 - val_accuracy: 0.0042\n"
     ]
    },
    {
     "name": "stdout",
     "output_type": "stream",
     "text": [
      "Epoch 55/100\n",
      "958/958 [==============================] - 1s 552us/step - loss: 0.0013 - accuracy: 0.0010 - val_loss: 6.9299e-04 - val_accuracy: 0.0042\n",
      "Epoch 56/100\n",
      "958/958 [==============================] - 1s 544us/step - loss: 0.0012 - accuracy: 0.0010 - val_loss: 7.1681e-04 - val_accuracy: 0.0042\n",
      "Epoch 57/100\n",
      "958/958 [==============================] - 1s 545us/step - loss: 0.0013 - accuracy: 0.0010 - val_loss: 0.0011 - val_accuracy: 0.0042\n",
      "Epoch 58/100\n",
      "958/958 [==============================] - 1s 543us/step - loss: 0.0012 - accuracy: 0.0010 - val_loss: 9.1751e-04 - val_accuracy: 0.0042\n",
      "Epoch 59/100\n",
      "958/958 [==============================] - 1s 539us/step - loss: 0.0012 - accuracy: 0.0010 - val_loss: 7.4635e-04 - val_accuracy: 0.0042\n",
      "Epoch 60/100\n",
      "958/958 [==============================] - 1s 545us/step - loss: 0.0012 - accuracy: 0.0010 - val_loss: 8.3102e-04 - val_accuracy: 0.0042\n",
      "Epoch 61/100\n",
      "958/958 [==============================] - 1s 549us/step - loss: 0.0012 - accuracy: 0.0010 - val_loss: 0.0012 - val_accuracy: 0.0042\n",
      "Epoch 62/100\n",
      "958/958 [==============================] - 1s 545us/step - loss: 0.0013 - accuracy: 0.0010 - val_loss: 0.0013 - val_accuracy: 0.0042\n",
      "Epoch 63/100\n",
      "958/958 [==============================] - 1s 544us/step - loss: 0.0011 - accuracy: 0.0010 - val_loss: 0.0011 - val_accuracy: 0.0042\n",
      "Epoch 64/100\n",
      "958/958 [==============================] - 1s 554us/step - loss: 0.0012 - accuracy: 0.0010 - val_loss: 0.0014 - val_accuracy: 0.0042\n",
      "Epoch 65/100\n",
      "958/958 [==============================] - 1s 544us/step - loss: 0.0010 - accuracy: 0.0010 - val_loss: 6.9715e-04 - val_accuracy: 0.0042\n",
      "Epoch 66/100\n",
      "958/958 [==============================] - 1s 541us/step - loss: 0.0011 - accuracy: 0.0010 - val_loss: 7.2167e-04 - val_accuracy: 0.0042\n",
      "Epoch 67/100\n",
      "958/958 [==============================] - 1s 537us/step - loss: 0.0011 - accuracy: 0.0010 - val_loss: 6.8438e-04 - val_accuracy: 0.0042\n",
      "Epoch 68/100\n",
      "958/958 [==============================] - 1s 548us/step - loss: 0.0011 - accuracy: 0.0010 - val_loss: 6.5255e-04 - val_accuracy: 0.0042\n",
      "Epoch 69/100\n",
      "958/958 [==============================] - 1s 538us/step - loss: 0.0011 - accuracy: 0.0010 - val_loss: 0.0013 - val_accuracy: 0.0042\n",
      "Epoch 70/100\n",
      "958/958 [==============================] - 1s 545us/step - loss: 0.0011 - accuracy: 0.0010 - val_loss: 7.0318e-04 - val_accuracy: 0.0042\n",
      "Epoch 71/100\n",
      "958/958 [==============================] - 1s 551us/step - loss: 0.0010 - accuracy: 0.0010 - val_loss: 6.1994e-04 - val_accuracy: 0.0042\n",
      "Epoch 72/100\n",
      "958/958 [==============================] - 1s 539us/step - loss: 0.0011 - accuracy: 0.0010 - val_loss: 7.2833e-04 - val_accuracy: 0.0042\n",
      "Epoch 73/100\n",
      "958/958 [==============================] - 1s 555us/step - loss: 0.0011 - accuracy: 0.0010 - val_loss: 7.2312e-04 - val_accuracy: 0.0042\n",
      "Epoch 74/100\n",
      "958/958 [==============================] - 1s 565us/step - loss: 0.0012 - accuracy: 0.0010 - val_loss: 8.3380e-04 - val_accuracy: 0.0042\n",
      "Epoch 75/100\n",
      "958/958 [==============================] - 1s 551us/step - loss: 9.7139e-04 - accuracy: 0.0010 - val_loss: 7.5404e-04 - val_accuracy: 0.0042\n",
      "Epoch 76/100\n",
      "958/958 [==============================] - 1s 537us/step - loss: 0.0010 - accuracy: 0.0010 - val_loss: 6.2772e-04 - val_accuracy: 0.0042\n",
      "Epoch 77/100\n",
      "958/958 [==============================] - 1s 528us/step - loss: 9.7508e-04 - accuracy: 0.0010 - val_loss: 6.2718e-04 - val_accuracy: 0.0042\n",
      "Epoch 78/100\n",
      "958/958 [==============================] - 1s 538us/step - loss: 8.9065e-04 - accuracy: 0.0010 - val_loss: 8.9275e-04 - val_accuracy: 0.0042\n",
      "Epoch 79/100\n",
      "958/958 [==============================] - 1s 542us/step - loss: 9.8047e-04 - accuracy: 0.0010 - val_loss: 6.2764e-04 - val_accuracy: 0.0042\n",
      "Epoch 80/100\n",
      "958/958 [==============================] - 1s 545us/step - loss: 9.6732e-04 - accuracy: 0.0010 - val_loss: 7.9998e-04 - val_accuracy: 0.0042\n",
      "Epoch 81/100\n",
      "958/958 [==============================] - 1s 533us/step - loss: 0.0011 - accuracy: 0.0010 - val_loss: 7.4308e-04 - val_accuracy: 0.0042\n",
      "Epoch 82/100\n",
      "958/958 [==============================] - 1s 556us/step - loss: 0.0011 - accuracy: 0.0010 - val_loss: 7.4189e-04 - val_accuracy: 0.0042\n",
      "Epoch 83/100\n",
      "958/958 [==============================] - 1s 559us/step - loss: 8.2954e-04 - accuracy: 0.0010 - val_loss: 5.7679e-04 - val_accuracy: 0.0042\n",
      "Epoch 84/100\n",
      "958/958 [==============================] - 1s 539us/step - loss: 0.0010 - accuracy: 0.0010 - val_loss: 5.8605e-04 - val_accuracy: 0.0042\n",
      "Epoch 85/100\n",
      "958/958 [==============================] - 1s 545us/step - loss: 0.0011 - accuracy: 0.0010 - val_loss: 8.3318e-04 - val_accuracy: 0.0042\n",
      "Epoch 86/100\n",
      "958/958 [==============================] - 1s 550us/step - loss: 9.5242e-04 - accuracy: 0.0010 - val_loss: 6.0983e-04 - val_accuracy: 0.0042\n",
      "Epoch 87/100\n",
      "958/958 [==============================] - 1s 540us/step - loss: 8.7948e-04 - accuracy: 0.0010 - val_loss: 8.2025e-04 - val_accuracy: 0.0042\n",
      "Epoch 88/100\n",
      "958/958 [==============================] - 1s 542us/step - loss: 8.1614e-04 - accuracy: 0.0010 - val_loss: 6.4692e-04 - val_accuracy: 0.0042\n",
      "Epoch 89/100\n",
      "958/958 [==============================] - 1s 537us/step - loss: 7.8970e-04 - accuracy: 0.0010 - val_loss: 6.6999e-04 - val_accuracy: 0.0042\n",
      "Epoch 90/100\n",
      "958/958 [==============================] - 1s 557us/step - loss: 8.5193e-04 - accuracy: 0.0010 - val_loss: 5.4412e-04 - val_accuracy: 0.0042\n",
      "Epoch 91/100\n",
      "958/958 [==============================] - 1s 556us/step - loss: 0.0011 - accuracy: 0.0010 - val_loss: 5.3814e-04 - val_accuracy: 0.0042\n",
      "Epoch 92/100\n",
      "958/958 [==============================] - 1s 543us/step - loss: 8.8017e-04 - accuracy: 0.0010 - val_loss: 7.5568e-04 - val_accuracy: 0.0042\n",
      "Epoch 93/100\n",
      "958/958 [==============================] - 1s 561us/step - loss: 8.1772e-04 - accuracy: 0.0010 - val_loss: 5.6173e-04 - val_accuracy: 0.0042\n",
      "Epoch 94/100\n",
      "958/958 [==============================] - 1s 548us/step - loss: 9.3980e-04 - accuracy: 0.0010 - val_loss: 5.6433e-04 - val_accuracy: 0.0042\n",
      "Epoch 95/100\n",
      "958/958 [==============================] - 1s 555us/step - loss: 8.7619e-04 - accuracy: 0.0010 - val_loss: 9.2207e-04 - val_accuracy: 0.0042\n",
      "Epoch 96/100\n",
      "958/958 [==============================] - 1s 539us/step - loss: 9.7041e-04 - accuracy: 0.0010 - val_loss: 9.3320e-04 - val_accuracy: 0.0042\n",
      "Epoch 97/100\n",
      "958/958 [==============================] - 1s 535us/step - loss: 8.8531e-04 - accuracy: 0.0010 - val_loss: 5.2609e-04 - val_accuracy: 0.0042\n",
      "Epoch 98/100\n",
      "958/958 [==============================] - 1s 540us/step - loss: 8.2874e-04 - accuracy: 0.0010 - val_loss: 6.0361e-04 - val_accuracy: 0.0042\n",
      "Epoch 99/100\n",
      "958/958 [==============================] - 1s 554us/step - loss: 8.3293e-04 - accuracy: 0.0010 - val_loss: 5.4957e-04 - val_accuracy: 0.0042\n",
      "Epoch 100/100\n",
      "958/958 [==============================] - 1s 565us/step - loss: 7.9132e-04 - accuracy: 0.0010 - val_loss: 7.2688e-04 - val_accuracy: 0.0042\n"
     ]
    },
    {
     "data": {
      "text/plain": [
       "<keras.callbacks.callbacks.History at 0x7f15bb891f90>"
      ]
     },
     "execution_count": 25,
     "metadata": {},
     "output_type": "execute_result"
    }
   ],
   "source": [
    "# Fitting the RNN to the Training set\n",
    "regressor.fit(X_train, y_train, epochs = 100, batch_size = 32, validation_split = 0.20)\n"
   ]
  },
  {
   "cell_type": "code",
   "execution_count": 26,
   "metadata": {},
   "outputs": [
    {
     "name": "stdout",
     "output_type": "stream",
     "text": [
      "Model: \"sequential_2\"\n",
      "_________________________________________________________________\n",
      "Layer (type)                 Output Shape              Param #   \n",
      "=================================================================\n",
      "lstm_3 (LSTM)                (None, 50)                10400     \n",
      "_________________________________________________________________\n",
      "dropout_2 (Dropout)          (None, 50)                0         \n",
      "_________________________________________________________________\n",
      "dense_1 (Dense)              (None, 1)                 51        \n",
      "=================================================================\n",
      "Total params: 10,451\n",
      "Trainable params: 10,451\n",
      "Non-trainable params: 0\n",
      "_________________________________________________________________\n"
     ]
    }
   ],
   "source": [
    "regressor.summary()"
   ]
  },
  {
   "cell_type": "code",
   "execution_count": 27,
   "metadata": {},
   "outputs": [],
   "source": [
    "# Getting the real stock price of 2017\n",
    "dataset_test = pd.read_csv('Google_Stock_Price_Test.csv')\n",
    "real_stock_price = dataset_test.iloc[:, 1:2].values"
   ]
  },
  {
   "cell_type": "code",
   "execution_count": 28,
   "metadata": {},
   "outputs": [],
   "source": [
    "# Getting the predicted stock price of 2017\n",
    "dataset_total = pd.concat((dataset_train['Open'], dataset_test['Open']), axis = 0)\n",
    "inputs = dataset_total[len(dataset_total) - len(dataset_test) - 60:].values\n",
    "inputs = inputs.reshape(-1,1)\n",
    "inputs = sc.transform(inputs)\n",
    "X_test = []\n",
    "for i in range(60, 80):\n",
    "    X_test.append(inputs[i-60:i, 0])\n",
    "X_test = np.array(X_test)\n",
    "X_test = np.reshape(X_test, (X_test.shape[0], X_test.shape[1], 1))\n",
    "predicted_stock_price = regressor.predict(X_test)\n",
    "predicted_stock_price = sc.inverse_transform(predicted_stock_price)"
   ]
  },
  {
   "cell_type": "code",
   "execution_count": 29,
   "metadata": {},
   "outputs": [
    {
     "data": {
      "image/png": "[encoded data removed]",
      "text/plain": [
       "<Figure size 432x288 with 1 Axes>"
      ]
     },
     "metadata": {
      "needs_background": "light"
     },
     "output_type": "display_data"
    }
   ],
   "source": [
    "# Visualising the results\n",
    "plt.plot(real_stock_price, color = 'red', label = 'Real Google Stock Price')\n",
    "plt.plot(predicted_stock_price, color = 'blue', label = 'Predicted Google Stock Price')\n",
    "plt.title('Google Stock Price Prediction')\n",
    "plt.xlabel('Time')\n",
    "plt.ylabel('Google Stock Price')\n",
    "plt.legend()\n",
    "plt.show()"
   ]
  },
  {
   "cell_type": "code",
   "execution_count": null,
   "metadata": {},
   "outputs": [],
   "source": []
  },
  {
   "cell_type": "code",
   "execution_count": null,
   "metadata": {},
   "outputs": [],
   "source": []
  }
 ],
 "metadata": {
  "kernelspec": {
   "display_name": "Python 3",
   "language": "python",
   "name": "python3"
  },
  "language_info": {
   "codemirror_mode": {
    "name": "ipython",
    "version": 3
   },
   "file_extension": ".py",
   "mimetype": "text/x-python",
   "name": "python",
   "nbconvert_exporter": "python",
   "pygments_lexer": "ipython3",
   "version": "3.7.5"
  }
 },
 "nbformat": 4,
 "nbformat_minor": 2
}
